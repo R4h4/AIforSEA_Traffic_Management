{
 "cells": [
  {
   "cell_type": "markdown",
   "metadata": {},
   "source": [
    "# Baseline\n",
    "For our baseline model, we will reduce the the problem to a simple time series problem. \n",
    "\n",
    "This goes along with the initial finding that day 1 seems to correspond to the same week day for all geo-locations. \n"
   ]
  },
  {
   "cell_type": "code",
   "execution_count": null,
   "metadata": {},
   "outputs": [],
   "source": [
    "from fbprophet import Prophet"
   ]
  },
  {
   "cell_type": "markdown",
   "metadata": {},
   "source": [
    "### Limitations\n",
    "Looking at the problem with the plain time series analysis tools above suffers from two problem:\n",
    "  1. Data limitations, since we are only allowed to use up to 14 consecutive days, we would ideally prefere a model that we can pretrain with the full dataset given.\n",
    "  2. Group isolation, the dataset contains 1329 different geolocations. The baseline models ignores every possible interaction between the locations, even if they are right next to each other\n",
    "\n"
   ]
  },
  {
   "cell_type": "code",
   "execution_count": null,
   "metadata": {},
   "outputs": [],
   "source": []
  }
 ],
 "metadata": {
  "kernelspec": {
   "display_name": "Python 3",
   "language": "python",
   "name": "python3"
  },
  "language_info": {
   "codemirror_mode": {
    "name": "ipython",
    "version": 3
   },
   "file_extension": ".py",
   "mimetype": "text/x-python",
   "name": "python",
   "nbconvert_exporter": "python",
   "pygments_lexer": "ipython3",
   "version": "3.6.8"
  }
 },
 "nbformat": 4,
 "nbformat_minor": 2
}
